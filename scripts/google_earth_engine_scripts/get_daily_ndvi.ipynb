{
 "cells": [
  {
   "cell_type": "code",
   "execution_count": 1,
   "metadata": {},
   "outputs": [
    {
     "data": {
      "text/html": [
       "<p>To authorize access needed by Earth Engine, open the following\n",
       "        URL in a web browser and follow the instructions:</p>\n",
       "        <p><a href=https://code.earthengine.google.com/client-auth?scopes=https%3A//www.googleapis.com/auth/earthengine%20https%3A//www.googleapis.com/auth/devstorage.full_control&request_id=vD-p0vLAnQlrfVOSesLz4SfL3SYZm_Mv8RUDURicKec&tc=TAgdWFNv92J9bkBFmleKnOnI4fx2hQoOqqFd5z7BGJw&cc=1jKtnvWMiqPs46AK5aiZe-UnhVab8cFoU465Glq5Flo>https://code.earthengine.google.com/client-auth?scopes=https%3A//www.googleapis.com/auth/earthengine%20https%3A//www.googleapis.com/auth/devstorage.full_control&request_id=vD-p0vLAnQlrfVOSesLz4SfL3SYZm_Mv8RUDURicKec&tc=TAgdWFNv92J9bkBFmleKnOnI4fx2hQoOqqFd5z7BGJw&cc=1jKtnvWMiqPs46AK5aiZe-UnhVab8cFoU465Glq5Flo</a></p>\n",
       "        <p>The authorization workflow will generate a code, which you should paste in the box below.</p>\n",
       "        "
      ],
      "text/plain": [
       "<IPython.core.display.HTML object>"
      ]
     },
     "metadata": {},
     "output_type": "display_data"
    },
    {
     "name": "stdout",
     "output_type": "stream",
     "text": [
      "\n",
      "Successfully saved authorization token.\n"
     ]
    }
   ],
   "source": [
    "import ee\n",
    "ee.Authenticate()\n",
    "ee.Initialize()"
   ]
  },
  {
   "cell_type": "code",
   "execution_count": 2,
   "metadata": {},
   "outputs": [],
   "source": [
    "# Import datasets\n",
    "gaul = ee.FeatureCollection(\"FAO/GAUL/2015/level2\")\n",
    "noaa_ndvi = ee.ImageCollection(\"NOAA/CDR/AVHRR/NDVI/V5\")\n",
    "modis_ndvi = ee.ImageCollection(\"MODIS/061/MOD13Q1\")\n",
    "google_ndvi = ee.ImageCollection(\"MODIS/MOD09GA_006_NDVI\")"
   ]
  },
  {
   "cell_type": "code",
   "execution_count": 34,
   "metadata": {},
   "outputs": [],
   "source": [
    "REGION_NAMES = ['El Jadida', 'Gabon', 'Isiolo', 'Khouribga', 'Kitui', 'Laikipia', 'Marsabit', 'Maynas', 'Para', 'Safi', 'Selangor', 'Sri Lanka']\n",
    "REGION_TYPES = [2, 0, 2, 2, 2, 2, 2, 2, 1, 2, 1, 0]\n",
    "SCALE = 250 # m\n",
    "MAX_PIXELS = 100000000"
   ]
  },
  {
   "cell_type": "code",
   "execution_count": 15,
   "metadata": {},
   "outputs": [],
   "source": [
    "def process_google_ndvi_image(image, county, scale, max_pixels):\n",
    "    date = image.get('system:time_start')\n",
    "    region_mask =  ee.Image.constant(1).clip(county)\n",
    "    county_bounds = county.geometry().bounds()\n",
    "    mask = region_mask\n",
    "    masked_image = image.updateMask(mask)\n",
    "    value = masked_image.select('NDVI').reduceRegion(\n",
    "        reducer=ee.Reducer.mean(),\n",
    "        geometry=county_bounds,\n",
    "        scale=scale,\n",
    "        maxPixels=max_pixels).get('NDVI')\n",
    "    feature = ee.Feature(None, {'date': ee.Date(date).format('MMM dd, YYYY'),\n",
    "                                'ndvi': value})\n",
    "    return feature"
   ]
  },
  {
   "cell_type": "code",
   "execution_count": 35,
   "metadata": {},
   "outputs": [],
   "source": [
    "task_list = []\n",
    "for region, region_type in zip(REGION_NAMES, REGION_TYPES):\n",
    "    region_printable = region.lower().replace(' ', '')\n",
    "    county = gaul.filter(ee.Filter.eq(f'ADM{region_type}_NAME', region))\n",
    "    google_ndvi_data = google_ndvi.map(lambda img: process_google_ndvi_image(img, \n",
    "                                                                          county, \n",
    "                                                                          SCALE, \n",
    "                                                                          MAX_PIXELS))\n",
    "    task = ee.batch.Export.table.toDrive(google_ndvi_data, f'google_ndvi_{region_printable}', region_printable, selectors = 'date, ndvi')\n",
    "    task.start()\n",
    "    task_list.append(task)"
   ]
  },
  {
   "cell_type": "code",
   "execution_count": 49,
   "metadata": {},
   "outputs": [],
   "source": [
    "for task in task_list:\n",
    "    status = task.status()\n",
    "    description = status['description']\n",
    "    state = status['state']\n",
    "    if state != 'COMPLETED':\n",
    "        print(state, description)"
   ]
  }
 ],
 "metadata": {
  "kernelspec": {
   "display_name": "bauchlab",
   "language": "python",
   "name": "python3"
  },
  "language_info": {
   "codemirror_mode": {
    "name": "ipython",
    "version": 3
   },
   "file_extension": ".py",
   "mimetype": "text/x-python",
   "name": "python",
   "nbconvert_exporter": "python",
   "pygments_lexer": "ipython3",
   "version": "3.11.4"
  },
  "orig_nbformat": 4
 },
 "nbformat": 4,
 "nbformat_minor": 2
}
