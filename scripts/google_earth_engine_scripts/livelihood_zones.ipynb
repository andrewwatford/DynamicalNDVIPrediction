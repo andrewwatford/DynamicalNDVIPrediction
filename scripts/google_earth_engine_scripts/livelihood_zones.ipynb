{
 "cells": [
  {
   "cell_type": "code",
   "execution_count": 1,
   "metadata": {},
   "outputs": [
    {
     "data": {
      "text/html": [
       "<p>To authorize access needed by Earth Engine, open the following\n",
       "        URL in a web browser and follow the instructions:</p>\n",
       "        <p><a href=https://code.earthengine.google.com/client-auth?scopes=https%3A//www.googleapis.com/auth/earthengine%20https%3A//www.googleapis.com/auth/devstorage.full_control&request_id=ckbMX6X29yJqLMRHFcBoHpdoZRIoW0z6KR3zE2NnRlQ&tc=BhtMhmReWJpXtgIWfUvnFkVGQbmbAGwjF_gDsPkj-V4&cc=JhAiHkrOFZATGAjVTE2Kq3Ud-SSxt8EyUA3XDB8y5is>https://code.earthengine.google.com/client-auth?scopes=https%3A//www.googleapis.com/auth/earthengine%20https%3A//www.googleapis.com/auth/devstorage.full_control&request_id=ckbMX6X29yJqLMRHFcBoHpdoZRIoW0z6KR3zE2NnRlQ&tc=BhtMhmReWJpXtgIWfUvnFkVGQbmbAGwjF_gDsPkj-V4&cc=JhAiHkrOFZATGAjVTE2Kq3Ud-SSxt8EyUA3XDB8y5is</a></p>\n",
       "        <p>The authorization workflow will generate a code, which you should paste in the box below.</p>\n",
       "        "
      ],
      "text/plain": [
       "<IPython.core.display.HTML object>"
      ]
     },
     "metadata": {},
     "output_type": "display_data"
    },
    {
     "name": "stdout",
     "output_type": "stream",
     "text": [
      "\n",
      "Successfully saved authorization token.\n"
     ]
    }
   ],
   "source": [
    "import ee\n",
    "\n",
    "ee.Authenticate()\n",
    "ee.Initialize()"
   ]
  },
  {
   "cell_type": "code",
   "execution_count": 2,
   "metadata": {},
   "outputs": [],
   "source": [
    "# Import datasets\n",
    "google_ndvi = ee.ImageCollection(\"MODIS/MOD09GA_006_NDVI\")\n",
    "modis_ndvi = ee.ImageCollection(\"MODIS/061/MOD13Q1\")\n",
    "chirps = ee.ImageCollection(\"UCSB-CHG/CHIRPS/DAILY\")\n",
    "lhz = ee.FeatureCollection(\"projects/awatford-bauchlab/assets/KE_LHZ_2011\")"
   ]
  },
  {
   "cell_type": "code",
   "execution_count": 3,
   "metadata": {},
   "outputs": [],
   "source": [
    "REGION_TAGS = ['KE05', 'KE06', 'KE09', 'KE16', 'KE24']\n",
    "SCALE = 250\n",
    "MODIS_NDVI_SCALE = 10000\n",
    "MAX_PIXELS = 100000000"
   ]
  },
  {
   "cell_type": "code",
   "execution_count": 12,
   "metadata": {},
   "outputs": [],
   "source": [
    "def process_ndvi_image(image, region, scale, max_pixels):\n",
    "    date = image.get('system:time_start')\n",
    "    region_mask =  ee.Image.constant(1).clip(region)\n",
    "    county_bounds = region.geometry().bounds()\n",
    "    mask = region_mask\n",
    "    masked_image = image.updateMask(mask)\n",
    "    value = masked_image.select('NDVI').reduceRegion(\n",
    "        reducer=ee.Reducer.mean(),\n",
    "        geometry=county_bounds,\n",
    "        scale=scale,\n",
    "        maxPixels=max_pixels).get('NDVI')\n",
    "    feature = ee.Feature(None, {'date': ee.Date(date).format('MMM dd, YYYY'),\n",
    "                                'value': value})\n",
    "    return feature\n",
    "\n",
    "def process_chirps_image(image, region, scale, max_pixels):\n",
    "    date = image.get('system:time_start')\n",
    "    region_mask =  ee.Image.constant(1).clip(region)\n",
    "    county_bounds = region.geometry().bounds()\n",
    "    mask = region_mask\n",
    "    masked_image = image.updateMask(mask)\n",
    "    value = masked_image.select('precipitation').reduceRegion(\n",
    "        reducer=ee.Reducer.mean(),\n",
    "        geometry=county_bounds,\n",
    "        scale=scale,\n",
    "        maxPixels=max_pixels).get('precipitation')\n",
    "    feature = ee.Feature(None, {'date': ee.Date(date).format('MMM dd, YYYY'),\n",
    "                                'value': value})\n",
    "    return feature\n",
    "\n",
    "def process_modis_ndvi_image(image, region, scale, ndvi_scale, max_pixels):\n",
    "    date = image.get('system:time_start')\n",
    "    qa_mask = image.select('SummaryQA')\n",
    "    region_mask =  ee.Image.constant(1).clip(region)\n",
    "    region_bounds = region.geometry().bounds()\n",
    "    mask = qa_mask.eq(0).And(region_mask)\n",
    "    masked_image = image.updateMask(mask)\n",
    "    value = masked_image.select('NDVI').divide(ndvi_scale).reduceRegion(\n",
    "        reducer=ee.Reducer.mean(),\n",
    "        geometry=region_bounds,\n",
    "        scale=scale,\n",
    "        maxPixels=max_pixels).get('NDVI')\n",
    "    feature = ee.Feature(None, {'date': ee.Date(date).format('MMM dd, YYYY'),\n",
    "                                'value': value})\n",
    "    return feature"
   ]
  },
  {
   "cell_type": "code",
   "execution_count": 13,
   "metadata": {},
   "outputs": [],
   "source": [
    "task_list = []\n",
    "for region_tag in REGION_TAGS:\n",
    "    region = lhz.filter(ee.Filter.eq('LZCODE', region_tag))\n",
    "\n",
    "    ndvi_features = modis_ndvi.map(lambda img: process_modis_ndvi_image(img, region, SCALE, MODIS_NDVI_SCALE, MAX_PIXELS))\n",
    "    ndvi_task = ee.batch.Export.table.toDrive(collection=ndvi_features, \n",
    "                                              description=f'ndvi_{region_tag}', \n",
    "                                              folder=region_tag, \n",
    "                                              selectors = 'date, value')\n",
    "    ndvi_task.start()\n",
    "    task_list.append(ndvi_task)"
   ]
  },
  {
   "cell_type": "code",
   "execution_count": 17,
   "metadata": {},
   "outputs": [],
   "source": [
    "task_list = []\n",
    "for region_tag in REGION_TAGS:\n",
    "    region = lhz.filter(ee.Filter.eq('LZCODE', region_tag))\n",
    "\n",
    "    ndvi_features = google_ndvi.map(lambda img: process_ndvi_image(img, region, SCALE, MAX_PIXELS))\n",
    "    ndvi_task = ee.batch.Export.table.toDrive(collection=ndvi_features, \n",
    "                                              description=f'ndvi_{region_tag}', \n",
    "                                              folder=region_tag, \n",
    "                                              selectors = 'date, value')\n",
    "    ndvi_task.start()\n",
    "    task_list.append(ndvi_task)\n",
    "\n",
    "    rainfall_features = chirps.map(lambda img: process_chirps_image(img, region, SCALE, MAX_PIXELS))\n",
    "    rainfall_task = ee.batch.Export.table.toDrive(collection=rainfall_features, \n",
    "                                                  description=f'rainfall_{region_tag}', \n",
    "                                                  folder=region_tag, \n",
    "                                                  selectors = 'date, value')\n",
    "    rainfall_task.start()\n",
    "    task_list.append(rainfall_task)"
   ]
  },
  {
   "cell_type": "code",
   "execution_count": 15,
   "metadata": {},
   "outputs": [],
   "source": [
    "for task in task_list:\n",
    "    status = task.status()\n",
    "    description = status['description']\n",
    "    state = status['state']\n",
    "    if state != 'COMPLETED':\n",
    "        print(state, description)"
   ]
  }
 ],
 "metadata": {
  "kernelspec": {
   "display_name": "bauchlab",
   "language": "python",
   "name": "python3"
  },
  "language_info": {
   "codemirror_mode": {
    "name": "ipython",
    "version": 3
   },
   "file_extension": ".py",
   "mimetype": "text/x-python",
   "name": "python",
   "nbconvert_exporter": "python",
   "pygments_lexer": "ipython3",
   "version": "3.11.4"
  },
  "orig_nbformat": 4
 },
 "nbformat": 4,
 "nbformat_minor": 2
}
