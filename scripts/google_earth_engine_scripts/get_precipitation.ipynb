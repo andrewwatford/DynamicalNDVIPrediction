{
 "cells": [
  {
   "cell_type": "code",
   "execution_count": 1,
   "metadata": {},
   "outputs": [
    {
     "data": {
      "text/html": [
       "<p>To authorize access needed by Earth Engine, open the following\n",
       "        URL in a web browser and follow the instructions:</p>\n",
       "        <p><a href=https://code.earthengine.google.com/client-auth?scopes=https%3A//www.googleapis.com/auth/earthengine%20https%3A//www.googleapis.com/auth/devstorage.full_control&request_id=7pOGDRKTe9CJfiho_b2-2JLZh2KTmKJrNd2FEqm1rEE&tc=bZ7xULdbcp_OuJADissFkgnHvG0CUqGmFZ825GsD_bo&cc=ATt4Fa9rlRLfPijc-uoSrOHzzSEqyKF0Aiw6A0gAhu8>https://code.earthengine.google.com/client-auth?scopes=https%3A//www.googleapis.com/auth/earthengine%20https%3A//www.googleapis.com/auth/devstorage.full_control&request_id=7pOGDRKTe9CJfiho_b2-2JLZh2KTmKJrNd2FEqm1rEE&tc=bZ7xULdbcp_OuJADissFkgnHvG0CUqGmFZ825GsD_bo&cc=ATt4Fa9rlRLfPijc-uoSrOHzzSEqyKF0Aiw6A0gAhu8</a></p>\n",
       "        <p>The authorization workflow will generate a code, which you should paste in the box below.</p>\n",
       "        "
      ],
      "text/plain": [
       "<IPython.core.display.HTML object>"
      ]
     },
     "metadata": {},
     "output_type": "display_data"
    },
    {
     "name": "stdout",
     "output_type": "stream",
     "text": [
      "\n",
      "Successfully saved authorization token.\n"
     ]
    }
   ],
   "source": [
    "import ee\n",
    "ee.Authenticate()\n",
    "ee.Initialize()"
   ]
  },
  {
   "cell_type": "code",
   "execution_count": 2,
   "metadata": {},
   "outputs": [],
   "source": [
    "# Import datasets\n",
    "gaul = ee.FeatureCollection(\"FAO/GAUL/2015/level2\")\n",
    "chirps = ee.ImageCollection(\"UCSB-CHG/CHIRPS/DAILY\")"
   ]
  },
  {
   "cell_type": "code",
   "execution_count": 3,
   "metadata": {},
   "outputs": [],
   "source": [
    "REGION_NAMES = ['El Jadida', 'Gabon', 'Isiolo', 'Khouribga', 'Kitui', 'Laikipia', 'Marsabit', 'Maynas', 'Para', 'Safi', 'Selangor', 'Sri Lanka']\n",
    "REGION_TYPES = [2, 0, 2, 2, 2, 2, 2, 2, 1, 2, 1, 0]\n",
    "CHIRPS_SCALE = 250\n",
    "MAX_PIXELS = 100000000"
   ]
  },
  {
   "cell_type": "code",
   "execution_count": 4,
   "metadata": {},
   "outputs": [],
   "source": [
    "def process_chirps_image(image, county, scale, max_pixels):\n",
    "    date = image.get('system:time_start')\n",
    "    region_mask =  ee.Image.constant(1).clip(county)\n",
    "    county_bounds = county.geometry().bounds()\n",
    "    mask = region_mask\n",
    "    masked_image = image.updateMask(mask)\n",
    "    value = masked_image.select('precipitation').reduceRegion(\n",
    "        reducer=ee.Reducer.mean(),\n",
    "        geometry=county_bounds,\n",
    "        scale=scale,\n",
    "        maxPixels=max_pixels).get('precipitation')\n",
    "    feature = ee.Feature(None, {'date': ee.Date(date).format('MMM dd, YYYY'),\n",
    "                                'value': value})\n",
    "    return feature\n"
   ]
  },
  {
   "cell_type": "code",
   "execution_count": 34,
   "metadata": {},
   "outputs": [],
   "source": [
    "task_list = []\n",
    "for region, region_type in zip(REGION_NAMES, REGION_TYPES):\n",
    "    region_printable = region.lower().replace(' ', '')\n",
    "    county = gaul.filter(ee.Filter.eq(f'ADM{region_type}_NAME', region))\n",
    "    rainfall_data = chirps.map(lambda img: process_chirps_image(img, \n",
    "                                                                county, \n",
    "                                                                CHIRPS_SCALE, \n",
    "                                                                MAX_PIXELS))\n",
    "    task = ee.batch.Export.table.toDrive(rainfall_data, f'chirps_{region_printable}', region_printable, selectors = 'date, value')\n",
    "    task.start()\n",
    "    task_list.append(task)"
   ]
  },
  {
   "cell_type": "code",
   "execution_count": 40,
   "metadata": {},
   "outputs": [],
   "source": [
    "for task in task_list:\n",
    "    status = task.status()\n",
    "    description = status['description']\n",
    "    state = status['state']\n",
    "    if state != 'COMPLETED':\n",
    "        print(state, description)"
   ]
  }
 ],
 "metadata": {
  "kernelspec": {
   "display_name": "bauchlab",
   "language": "python",
   "name": "python3"
  },
  "language_info": {
   "codemirror_mode": {
    "name": "ipython",
    "version": 3
   },
   "file_extension": ".py",
   "mimetype": "text/x-python",
   "name": "python",
   "nbconvert_exporter": "python",
   "pygments_lexer": "ipython3",
   "version": "3.11.4"
  },
  "orig_nbformat": 4
 },
 "nbformat": 4,
 "nbformat_minor": 2
}
