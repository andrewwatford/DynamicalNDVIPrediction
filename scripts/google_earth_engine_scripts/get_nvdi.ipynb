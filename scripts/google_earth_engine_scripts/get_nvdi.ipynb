{
 "cells": [
  {
   "cell_type": "code",
   "execution_count": 1,
   "metadata": {},
   "outputs": [
    {
     "data": {
      "text/html": [
       "<p>To authorize access needed by Earth Engine, open the following\n",
       "        URL in a web browser and follow the instructions:</p>\n",
       "        <p><a href=https://code.earthengine.google.com/client-auth?scopes=https%3A//www.googleapis.com/auth/earthengine%20https%3A//www.googleapis.com/auth/devstorage.full_control&request_id=nKZb6HMXJpkiKqSW4AGMl7yflVe0FCRqyDpgxVyZH64&tc=O0Lfvljr0f80KfSg6qdAJT1Fo4fpEBMqjY-TqdoPGUg&cc=FK4OE_9t_dlTplKMdqALvzMLM26Yl0gC1F9_hzu05Hk>https://code.earthengine.google.com/client-auth?scopes=https%3A//www.googleapis.com/auth/earthengine%20https%3A//www.googleapis.com/auth/devstorage.full_control&request_id=nKZb6HMXJpkiKqSW4AGMl7yflVe0FCRqyDpgxVyZH64&tc=O0Lfvljr0f80KfSg6qdAJT1Fo4fpEBMqjY-TqdoPGUg&cc=FK4OE_9t_dlTplKMdqALvzMLM26Yl0gC1F9_hzu05Hk</a></p>\n",
       "        <p>The authorization workflow will generate a code, which you should paste in the box below.</p>\n",
       "        "
      ],
      "text/plain": [
       "<IPython.core.display.HTML object>"
      ]
     },
     "metadata": {},
     "output_type": "display_data"
    },
    {
     "name": "stdout",
     "output_type": "stream",
     "text": [
      "\n",
      "Successfully saved authorization token.\n"
     ]
    }
   ],
   "source": [
    "import ee\n",
    "ee.Authenticate()\n",
    "ee.Initialize()"
   ]
  },
  {
   "cell_type": "code",
   "execution_count": 2,
   "metadata": {},
   "outputs": [],
   "source": [
    "# Import datasets\n",
    "gaul = ee.FeatureCollection(\"FAO/GAUL/2015/level2\")\n",
    "noaa_ndvi = ee.ImageCollection(\"NOAA/CDR/AVHRR/NDVI/V5\")\n",
    "modis_ndvi = ee.ImageCollection(\"MODIS/061/MOD13Q1\")"
   ]
  },
  {
   "cell_type": "code",
   "execution_count": 3,
   "metadata": {},
   "outputs": [],
   "source": [
    "REGION_NAMES = ['El Jadida', 'Gabon', 'Isiolo', 'Khouribga', 'Kitui', 'Laikipia', 'Marsabit', 'Maynas', 'Para', 'Safi', 'Selangor', 'Sri Lanka']\n",
    "REGION_TYPES = [2, 0, 2, 2, 2, 2, 2, 2, 1, 2, 1, 0]\n",
    "MODIS_SCALE = 250\n",
    "MODIS_NDVI_SCALE = 0.0001\n",
    "MAX_PIXELS = 100000000"
   ]
  },
  {
   "cell_type": "code",
   "execution_count": 4,
   "metadata": {},
   "outputs": [],
   "source": [
    "def process_modis_ndvi_image(image, county, scale, ndvi_scale, max_pixels):\n",
    "    date = image.get('system:time_start')\n",
    "    qa_mask = image.select('SummaryQA')\n",
    "    region_mask =  ee.Image.constant(1).clip(county)\n",
    "    county_bounds = county.geometry().bounds()\n",
    "    mask = qa_mask.eq(0).And(region_mask)\n",
    "    masked_image = image.updateMask(mask)\n",
    "    value = masked_image.select('NDVI').divide(1 / ndvi_scale).reduceRegion(\n",
    "        reducer=ee.Reducer.mean(),\n",
    "        geometry=county_bounds,\n",
    "        scale=scale,\n",
    "        maxPixels=max_pixels).get('NDVI')\n",
    "    feature = ee.Feature(None, {'date': ee.Date(date).format('MMM dd, YYYY'),\n",
    "                                'ndvi': value})\n",
    "    return feature"
   ]
  },
  {
   "cell_type": "code",
   "execution_count": 5,
   "metadata": {},
   "outputs": [],
   "source": [
    "task_list = []\n",
    "for region, region_type in zip(REGION_NAMES, REGION_TYPES):\n",
    "    region_printable = region.lower().replace(' ', '')\n",
    "    county = gaul.filter(ee.Filter.eq(f'ADM{region_type}_NAME', region))\n",
    "    modis_ndvi_data = modis_ndvi.map(lambda img: process_modis_ndvi_image(img, \n",
    "                                                                          county, \n",
    "                                                                          MODIS_SCALE, \n",
    "                                                                          MODIS_NDVI_SCALE, \n",
    "                                                                          MAX_PIXELS))\n",
    "    task = ee.batch.Export.table.toDrive(modis_ndvi_data, f'modis_ndvi_{region_printable}', region_printable, selectors = 'date, ndvi')\n",
    "    task.start()\n",
    "    task_list.append(task)"
   ]
  },
  {
   "cell_type": "code",
   "execution_count": 12,
   "metadata": {},
   "outputs": [],
   "source": [
    "for task in task_list:\n",
    "    status = task.status()\n",
    "    description = status['description']\n",
    "    state = status['state']\n",
    "    if state != 'COMPLETED':\n",
    "        print(state, description)"
   ]
  }
 ],
 "metadata": {
  "kernelspec": {
   "display_name": "bauchlab",
   "language": "python",
   "name": "python3"
  },
  "language_info": {
   "codemirror_mode": {
    "name": "ipython",
    "version": 3
   },
   "file_extension": ".py",
   "mimetype": "text/x-python",
   "name": "python",
   "nbconvert_exporter": "python",
   "pygments_lexer": "ipython3",
   "version": "3.11.4"
  },
  "orig_nbformat": 4
 },
 "nbformat": 4,
 "nbformat_minor": 2
}
