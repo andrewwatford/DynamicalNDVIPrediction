{
 "cells": [
  {
   "cell_type": "code",
   "execution_count": 1,
   "metadata": {},
   "outputs": [
    {
     "data": {
      "text/html": [
       "<p>To authorize access needed by Earth Engine, open the following\n",
       "        URL in a web browser and follow the instructions:</p>\n",
       "        <p><a href=https://code.earthengine.google.com/client-auth?scopes=https%3A//www.googleapis.com/auth/earthengine%20https%3A//www.googleapis.com/auth/devstorage.full_control&request_id=FrQ87DN0E4EwwVHCiOwlHXdoWiYAQ0a0SP5EQGozirU&tc=giLufkf657hO33e8jUtrdLEd-6wjpHSfshLQv_hL2RY&cc=TxF3rK774LFZHI3NFNinjxkqXPtJVjcKDWSI3gjWa0g>https://code.earthengine.google.com/client-auth?scopes=https%3A//www.googleapis.com/auth/earthengine%20https%3A//www.googleapis.com/auth/devstorage.full_control&request_id=FrQ87DN0E4EwwVHCiOwlHXdoWiYAQ0a0SP5EQGozirU&tc=giLufkf657hO33e8jUtrdLEd-6wjpHSfshLQv_hL2RY&cc=TxF3rK774LFZHI3NFNinjxkqXPtJVjcKDWSI3gjWa0g</a></p>\n",
       "        <p>The authorization workflow will generate a code, which you should paste in the box below.</p>\n",
       "        "
      ],
      "text/plain": [
       "<IPython.core.display.HTML object>"
      ]
     },
     "metadata": {},
     "output_type": "display_data"
    },
    {
     "name": "stdout",
     "output_type": "stream",
     "text": [
      "\n",
      "Successfully saved authorization token.\n"
     ]
    }
   ],
   "source": [
    "import ee\n",
    "\n",
    "ee.Authenticate()"
   ]
  },
  {
   "cell_type": "code",
   "execution_count": 2,
   "metadata": {},
   "outputs": [],
   "source": [
    "ee.Initialize()"
   ]
  },
  {
   "cell_type": "code",
   "execution_count": 3,
   "metadata": {},
   "outputs": [],
   "source": [
    "REGION_NAMES = ['El Jadida', 'Gabon', 'Isiolo', 'Khouribga', 'Kitui', 'Laikipia', 'Marsabit', 'Maynas', 'Para', 'Safi', 'Selangor', 'Sri Lanka']\n",
    "REGION_TYPES = [2, 0, 2, 2, 2, 2, 2, 2, 1, 2, 1, 0]\n",
    "REGION_NAMES_FS = [region.lower().replace(' ', '') for region in REGION_NAMES]\n",
    "# Imports\n",
    "noaa = ee.ImageCollection(\"NOAA/CDR/AVHRR/NDVI/V5\")\n",
    "gaul = ee.FeatureCollection(\"FAO/GAUL/2015/level2\")\n",
    "chirps = ee.ImageCollection(\"UCSB-CHG/CHIRPS/DAILY\")\n",
    "pdsi = ee.ImageCollection(\"IDAHO_EPSCOR/TERRACLIMATE\")\n",
    "spei = ee.ImageCollection(\"CSIC/SPEI/2_8\")\n",
    "# variables\n",
    "start_date = '2000-01-01'\n",
    "end_date = '2020-01-01'\n",
    "filter = ee.Filter.date(start_date, end_date)\n",
    "spei_length = '01'\n",
    "# function\n",
    "def create_TS_spei(image, county_bounds, length):\n",
    "    date = image.get('system:time_start')\n",
    "    value = image.reduceRegion(ee.Reducer.mean(), county_bounds).get(f'SPEI_{length}_month')\n",
    "    ft = ee.Feature(None, {'system:time_start': ee.Date(date).format(\"MMM dd, YYYY\"), \n",
    "                            'value': value})\n",
    "    return ft"
   ]
  },
  {
   "cell_type": "code",
   "execution_count": 4,
   "metadata": {},
   "outputs": [],
   "source": [
    "task_list = []\n",
    "for region, region_type in zip(REGION_NAMES, REGION_TYPES):\n",
    "    region_printable = region.lower().replace(' ', '')\n",
    "    county = gaul.filter(ee.Filter.eq(f'ADM{region_type}_NAME', region))\n",
    "    county_bounds = county.geometry().bounds()\n",
    "    spei_images = spei.filter(filter)\n",
    "    spei_data = spei_images.map(lambda arg: create_TS_spei(arg, county_bounds, spei_length))\n",
    "    task = ee.batch.Export.table.toDrive(spei_data, f'spei_{spei_length}_{region_printable}', region_printable, selectors = 'system:time_start, value',)\n",
    "    task.start()\n",
    "    task_list.append(task)"
   ]
  },
  {
   "cell_type": "code",
   "execution_count": 6,
   "metadata": {},
   "outputs": [],
   "source": [
    "for task in task_list:\n",
    "    status = task.status()\n",
    "    description = status['description']\n",
    "    state = status['state']\n",
    "    if state != 'COMPLETED':\n",
    "        print(description, state) "
   ]
  },
  {
   "cell_type": "code",
   "execution_count": null,
   "metadata": {},
   "outputs": [],
   "source": []
  }
 ],
 "metadata": {
  "kernelspec": {
   "display_name": "bauchlab",
   "language": "python",
   "name": "python3"
  },
  "language_info": {
   "codemirror_mode": {
    "name": "ipython",
    "version": 3
   },
   "file_extension": ".py",
   "mimetype": "text/x-python",
   "name": "python",
   "nbconvert_exporter": "python",
   "pygments_lexer": "ipython3",
   "version": "3.11.4"
  },
  "orig_nbformat": 4
 },
 "nbformat": 4,
 "nbformat_minor": 2
}
